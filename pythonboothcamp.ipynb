{
  "nbformat": 4,
  "nbformat_minor": 0,
  "metadata": {
    "colab": {
      "provenance": []
    },
    "kernelspec": {
      "name": "python3",
      "display_name": "Python 3"
    },
    "language_info": {
      "name": "python"
    }
  },
  "cells": [
    {
      "cell_type": "code",
      "execution_count": 3,
      "metadata": {
        "colab": {
          "base_uri": "https://localhost:8080/"
        },
        "id": "KxTiU6Iowql5",
        "outputId": "d51cdd2c-f4ca-4b0b-a00d-9c0796794a93"
      },
      "outputs": [
        {
          "output_type": "stream",
          "name": "stdout",
          "text": [
            "hello world\n"
          ]
        }
      ],
      "source": [
        "print(\"hello world\")"
      ]
    },
    {
      "cell_type": "code",
      "source": [
        "a=5\n",
        "b=6.5\n",
        "#Addition\n",
        "c=a+b\n",
        "print(\"The sum of two number is\",c)"
      ],
      "metadata": {
        "colab": {
          "base_uri": "https://localhost:8080/"
        },
        "id": "fhKiDRWIxTTs",
        "outputId": "0332698a-8aea-4064-b371-ce278e3c9cb8"
      },
      "execution_count": 8,
      "outputs": [
        {
          "output_type": "stream",
          "name": "stdout",
          "text": [
            "The sum of two number is 11.5\n"
          ]
        }
      ]
    },
    {
      "cell_type": "code",
      "source": [
        "j=float(input(\"enter first number\"))\n",
        "k=float(input(\"enter second number\"))\n",
        "l=j*k\n",
        "print(\"the product of the number\", l)"
      ],
      "metadata": {
        "colab": {
          "base_uri": "https://localhost:8080/"
        },
        "id": "s5yfeDXeyWxc",
        "outputId": "470a060d-86ed-4f7d-9847-6cb210a45b1e"
      },
      "execution_count": 14,
      "outputs": [
        {
          "output_type": "stream",
          "name": "stdout",
          "text": [
            "enter first number35\n",
            "enter second number35\n",
            "the product of the number 1225.0\n"
          ]
        }
      ]
    }
  ]
}